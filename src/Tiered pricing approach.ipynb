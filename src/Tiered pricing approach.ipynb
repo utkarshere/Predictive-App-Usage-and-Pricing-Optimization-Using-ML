{
 "cells": [
  {
   "cell_type": "code",
   "execution_count": 6,
   "id": "fe81d648-da4b-47b7-850d-013600349ce7",
   "metadata": {},
   "outputs": [],
   "source": [
    "import pandas as pd\n",
    "import matplotlib.pyplot as plt\n",
    "import seaborn as sns\n",
    "import numpy as np"
   ]
  },
  {
   "cell_type": "code",
   "execution_count": 2,
   "id": "1871cbd2-11ff-471d-bb03-d4b8a11b03ab",
   "metadata": {},
   "outputs": [
    {
     "data": {
      "text/html": [
       "<div>\n",
       "<style scoped>\n",
       "    .dataframe tbody tr th:only-of-type {\n",
       "        vertical-align: middle;\n",
       "    }\n",
       "\n",
       "    .dataframe tbody tr th {\n",
       "        vertical-align: top;\n",
       "    }\n",
       "\n",
       "    .dataframe thead th {\n",
       "        text-align: right;\n",
       "    }\n",
       "</style>\n",
       "<table border=\"1\" class=\"dataframe\">\n",
       "  <thead>\n",
       "    <tr style=\"text-align: right;\">\n",
       "      <th></th>\n",
       "      <th>Duration Used (days)</th>\n",
       "      <th>Total Usage (minutes)</th>\n",
       "      <th>Reason for Quitting</th>\n",
       "      <th>Cost Offered (rupees)</th>\n",
       "      <th>Accepted Offer</th>\n",
       "    </tr>\n",
       "  </thead>\n",
       "  <tbody>\n",
       "    <tr>\n",
       "      <th>0</th>\n",
       "      <td>141</td>\n",
       "      <td>3186</td>\n",
       "      <td>Expensive</td>\n",
       "      <td>600</td>\n",
       "      <td>True</td>\n",
       "    </tr>\n",
       "    <tr>\n",
       "      <th>1</th>\n",
       "      <td>154</td>\n",
       "      <td>9717</td>\n",
       "      <td>Not Useful</td>\n",
       "      <td>800</td>\n",
       "      <td>True</td>\n",
       "    </tr>\n",
       "    <tr>\n",
       "      <th>2</th>\n",
       "      <td>306</td>\n",
       "      <td>17820</td>\n",
       "      <td>Not Useful</td>\n",
       "      <td>500</td>\n",
       "      <td>True</td>\n",
       "    </tr>\n",
       "    <tr>\n",
       "      <th>3</th>\n",
       "      <td>338</td>\n",
       "      <td>28135</td>\n",
       "      <td>Expensive</td>\n",
       "      <td>500</td>\n",
       "      <td>True</td>\n",
       "    </tr>\n",
       "    <tr>\n",
       "      <th>4</th>\n",
       "      <td>57</td>\n",
       "      <td>5448</td>\n",
       "      <td>Expensive</td>\n",
       "      <td>800</td>\n",
       "      <td>True</td>\n",
       "    </tr>\n",
       "  </tbody>\n",
       "</table>\n",
       "</div>"
      ],
      "text/plain": [
       "   Duration Used (days)  Total Usage (minutes) Reason for Quitting  \\\n",
       "0                   141                   3186           Expensive   \n",
       "1                   154                   9717          Not Useful   \n",
       "2                   306                  17820          Not Useful   \n",
       "3                   338                  28135           Expensive   \n",
       "4                    57                   5448           Expensive   \n",
       "\n",
       "   Cost Offered (rupees)  Accepted Offer  \n",
       "0                    600            True  \n",
       "1                    800            True  \n",
       "2                    500            True  \n",
       "3                    500            True  \n",
       "4                    800            True  "
      ]
     },
     "execution_count": 2,
     "metadata": {},
     "output_type": "execute_result"
    }
   ],
   "source": [
    "df = pd.read_csv('../data/App Usage dataset for 10000 customers.csv')\n",
    "df.head()"
   ]
  },
  {
   "cell_type": "markdown",
   "id": "3027983c-ea83-4a92-ad78-a0e303fbd817",
   "metadata": {},
   "source": [
    "### Applying feature engineering/data augmentation to expand/modify the existing data"
   ]
  },
  {
   "cell_type": "code",
   "execution_count": 4,
   "id": "29f6e843-fadc-458b-99ce-9fc6805b6442",
   "metadata": {},
   "outputs": [
    {
     "data": {
      "text/html": [
       "<div>\n",
       "<style scoped>\n",
       "    .dataframe tbody tr th:only-of-type {\n",
       "        vertical-align: middle;\n",
       "    }\n",
       "\n",
       "    .dataframe tbody tr th {\n",
       "        vertical-align: top;\n",
       "    }\n",
       "\n",
       "    .dataframe thead th {\n",
       "        text-align: right;\n",
       "    }\n",
       "</style>\n",
       "<table border=\"1\" class=\"dataframe\">\n",
       "  <thead>\n",
       "    <tr style=\"text-align: right;\">\n",
       "      <th></th>\n",
       "      <th>Duration Used (days)</th>\n",
       "      <th>Total Usage (minutes)</th>\n",
       "      <th>Reason for Quitting</th>\n",
       "      <th>Cost Offered (rupees)</th>\n",
       "      <th>Accepted Offer</th>\n",
       "      <th>Approx per day usage (minutes)</th>\n",
       "      <th>Cost paid per minute</th>\n",
       "    </tr>\n",
       "  </thead>\n",
       "  <tbody>\n",
       "    <tr>\n",
       "      <th>0</th>\n",
       "      <td>141</td>\n",
       "      <td>3186</td>\n",
       "      <td>Expensive</td>\n",
       "      <td>600</td>\n",
       "      <td>1</td>\n",
       "      <td>22.595745</td>\n",
       "      <td>0.188324</td>\n",
       "    </tr>\n",
       "    <tr>\n",
       "      <th>1</th>\n",
       "      <td>154</td>\n",
       "      <td>9717</td>\n",
       "      <td>Not Useful</td>\n",
       "      <td>800</td>\n",
       "      <td>1</td>\n",
       "      <td>63.097403</td>\n",
       "      <td>0.082330</td>\n",
       "    </tr>\n",
       "    <tr>\n",
       "      <th>2</th>\n",
       "      <td>306</td>\n",
       "      <td>17820</td>\n",
       "      <td>Not Useful</td>\n",
       "      <td>500</td>\n",
       "      <td>1</td>\n",
       "      <td>58.235294</td>\n",
       "      <td>0.028058</td>\n",
       "    </tr>\n",
       "    <tr>\n",
       "      <th>3</th>\n",
       "      <td>338</td>\n",
       "      <td>28135</td>\n",
       "      <td>Expensive</td>\n",
       "      <td>500</td>\n",
       "      <td>1</td>\n",
       "      <td>83.239645</td>\n",
       "      <td>0.017771</td>\n",
       "    </tr>\n",
       "    <tr>\n",
       "      <th>4</th>\n",
       "      <td>57</td>\n",
       "      <td>5448</td>\n",
       "      <td>Expensive</td>\n",
       "      <td>800</td>\n",
       "      <td>1</td>\n",
       "      <td>95.578947</td>\n",
       "      <td>0.146843</td>\n",
       "    </tr>\n",
       "  </tbody>\n",
       "</table>\n",
       "</div>"
      ],
      "text/plain": [
       "   Duration Used (days)  Total Usage (minutes) Reason for Quitting  \\\n",
       "0                   141                   3186           Expensive   \n",
       "1                   154                   9717          Not Useful   \n",
       "2                   306                  17820          Not Useful   \n",
       "3                   338                  28135           Expensive   \n",
       "4                    57                   5448           Expensive   \n",
       "\n",
       "   Cost Offered (rupees)  Accepted Offer  Approx per day usage (minutes)  \\\n",
       "0                    600               1                       22.595745   \n",
       "1                    800               1                       63.097403   \n",
       "2                    500               1                       58.235294   \n",
       "3                    500               1                       83.239645   \n",
       "4                    800               1                       95.578947   \n",
       "\n",
       "   Cost paid per minute  \n",
       "0              0.188324  \n",
       "1              0.082330  \n",
       "2              0.028058  \n",
       "3              0.017771  \n",
       "4              0.146843  "
      ]
     },
     "execution_count": 4,
     "metadata": {},
     "output_type": "execute_result"
    }
   ],
   "source": [
    "df['Approx per day usage (minutes)'] = df['Total Usage (minutes)']/df['Duration Used (days)']\n",
    "df['Cost paid per minute'] = df['Cost Offered (rupees)']/df['Total Usage (minutes)']\n",
    "df['Accepted Offer'] = df['Accepted Offer'].map({True:1, False:0})\n",
    "df.head()"
   ]
  },
  {
   "cell_type": "code",
   "execution_count": 7,
   "id": "45a084ed-dc27-4b08-8120-67fa59ffb5c5",
   "metadata": {},
   "outputs": [
    {
     "data": {
      "image/png": "[encoded data removed]",
      "text/plain": [
       "<Figure size 1200x1000 with 2 Axes>"
      ]
     },
     "metadata": {},
     "output_type": "display_data"
    }
   ],
   "source": [
    "columns_to_include = ['Duration Used (days)', 'Total Usage (minutes)', \n",
    "                      'Approx per day usage (minutes)', 'Cost Offered (rupees)', 'Cost paid per minute', 'Accepted Offer']\n",
    "\n",
    "numeric_df = df[columns_to_include]\n",
    "corr_matrix = numeric_df.corr()\n",
    "plt.figure(figsize=(12, 10))\n",
    "heatmap = sns.heatmap(corr_matrix, annot=True, cmap='coolwarm', vmin=-1.0, center=0, linewidths=0.5, \n",
    "                      fmt='.2f')\n",
    "plt.title('Correlation Matrix of Numeric Features', fontsize=16)\n",
    "plt.xticks(rotation=45, ha='right')\n",
    "plt.tight_layout()\n",
    "plt.show()"
   ]
  },
  {
   "cell_type": "code",
   "execution_count": 9,
   "id": "8144d28a-86d9-4e6d-95eb-9daa5f17664e",
   "metadata": {},
   "outputs": [
    {
     "name": "stdout",
     "output_type": "stream",
     "text": [
      "\n",
      "Correlations with Accepted Offer:\n",
      "Accepted Offer                    1.000000\n",
      "Duration Used (days)              0.006097\n",
      "Total Usage (minutes)             0.004894\n",
      "Approx per day usage (minutes)   -0.002063\n",
      "Cost paid per minute             -0.007709\n",
      "Cost Offered (rupees)            -0.294944\n",
      "Name: Accepted Offer, dtype: float64\n",
      "\n",
      "Top 10 Strongest Correlations:\n",
      "Duration Used (days) & Total Usage (minutes): 0.798\n",
      "Total Usage (minutes) & Approx per day usage (minutes): 0.526\n",
      "Duration Used (days) & Cost paid per minute: -0.301\n",
      "Cost Offered (rupees) & Accepted Offer: -0.295\n",
      "Total Usage (minutes) & Cost paid per minute: -0.257\n",
      "Approx per day usage (minutes) & Cost paid per minute: -0.115\n",
      "Cost Offered (rupees) & Cost paid per minute: 0.045\n",
      "Total Usage (minutes) & Cost Offered (rupees): 0.011\n",
      "Duration Used (days) & Cost Offered (rupees): 0.010\n",
      "Duration Used (days) & Approx per day usage (minutes): 0.008\n"
     ]
    }
   ],
   "source": [
    "target_correlations = corr_matrix['Accepted Offer'].sort_values(ascending=False)\n",
    "print(\"\\nCorrelations with Accepted Offer:\")\n",
    "print(target_correlations)\n",
    "\n",
    "\n",
    "print(\"\\nTop 10 Strongest Correlations:\")\n",
    "corr_pairs = []\n",
    "for i in range(len(corr_matrix.columns)):\n",
    "    for j in range(i+1, len(corr_matrix.columns)):\n",
    "        corr_pairs.append((corr_matrix.columns[i], corr_matrix.columns[j], \n",
    "                           corr_matrix.iloc[i, j]))\n",
    "\n",
    "\n",
    "corr_pairs.sort(key=lambda x: abs(x[2]), reverse=True)\n",
    "for pair in corr_pairs[:10]:\n",
    "    print(f\"{pair[0]} & {pair[1]}: {pair[2]:.3f}\")"
   ]
  },
  {
   "cell_type": "markdown",
   "id": "d3bbc85b-3d93-444a-b2bb-0d5227d1a169",
   "metadata": {},
   "source": [
    "#### <p>From the given correlation heatmap, we can conclude that **duration used (days)** and **total usage (minutes)** are the two fields with <br> significant correlation.</p> <p> However, since the number of fields is moderate, interpretability can be prioritized without reduction in dimensionality. </p> <p>In addition, low correlation of **cost offered** with the **accepted offer** field suggests that their is little **_linear_** relationship between the acceptance and price offered indicating that factors other than only the pricing influence the consumer's decision of accepting the offer."
   ]
  },
  {
   "cell_type": "code",
   "execution_count": 10,
   "id": "d50f6b42-90cc-4e31-9914-395f6b40e9cd",
   "metadata": {},
   "outputs": [
    {
     "data": {
      "text/plain": [
       "Accepted Offer\n",
       "1    64.16\n",
       "0    35.84\n",
       "Name: proportion, dtype: float64"
      ]
     },
     "execution_count": 10,
     "metadata": {},
     "output_type": "execute_result"
    }
   ],
   "source": [
    "df['Accepted Offer'].value_counts(normalize=True)*100"
   ]
  },
  {
   "cell_type": "markdown",
   "id": "fe40a23c-5d6c-4f86-82b0-ebab1588d5e7",
   "metadata": {},
   "source": [
    "## Intuition behind building the dynamic highest pricing model based on the probability of user's acceptance:\n",
    "### For recommending/suggesting highest price, given a user is likely to accept the offer with a sufficient probability, some crucial keypoints to consider when building the appropriate model are mentioned in the next markdown."
   ]
  },
  {
   "cell_type": "markdown",
   "id": "745ecc6e-6743-4e61-804d-ebc53558330b",
   "metadata": {},
   "source": [
    "### 1. The model needs to result in outputs based on **probabilistic acceptance** of a given user rather than definitive output.\n",
    "### 2. Key point to note here is that there is a _**class imbalance**_ which is depicted by the block displaying counts of 'Accepted Offer' column which is the target variable in this case. A robust model which can output probabilities and handle class imbalance is the need.\n",
    "### 3. If a user, in reality, rejects the offer but the model predicts acceptance, the loss associated with a business is likely to be on the conversion side, where false positives lead to poor conversion strategy. However, if the user, in reality, accepts the offer but model predictions show rejection, there lie significant chances of revenue losses since the user will not be presented with the highest price he or she would have paid. This concludes that *false negatives* or **recall** is the crucial metric to improve upon.\n",
    "### 4. Three classification models namely Logistic Regression, Random Forest Classifier, and XGBoost are tested and finally the model with the highest ROC-AUC score is finalized for further predicitons."
   ]
  },
  {
   "cell_type": "code",
   "execution_count": 11,
   "id": "566d6eaf-6aef-4f31-a637-0b3a99dd8342",
   "metadata": {},
   "outputs": [
    {
     "data": {
      "text/html": [
       "<div>\n",
       "<style scoped>\n",
       "    .dataframe tbody tr th:only-of-type {\n",
       "        vertical-align: middle;\n",
       "    }\n",
       "\n",
       "    .dataframe tbody tr th {\n",
       "        vertical-align: top;\n",
       "    }\n",
       "\n",
       "    .dataframe thead th {\n",
       "        text-align: right;\n",
       "    }\n",
       "</style>\n",
       "<table border=\"1\" class=\"dataframe\">\n",
       "  <thead>\n",
       "    <tr style=\"text-align: right;\">\n",
       "      <th></th>\n",
       "      <th>Duration Used (days)</th>\n",
       "      <th>Total Usage (minutes)</th>\n",
       "      <th>Reason for Quitting</th>\n",
       "      <th>Cost Offered (rupees)</th>\n",
       "      <th>Accepted Offer</th>\n",
       "      <th>Approx per day usage (minutes)</th>\n",
       "      <th>Cost paid per minute</th>\n",
       "    </tr>\n",
       "  </thead>\n",
       "  <tbody>\n",
       "    <tr>\n",
       "      <th>0</th>\n",
       "      <td>141</td>\n",
       "      <td>3186</td>\n",
       "      <td>Expensive</td>\n",
       "      <td>600</td>\n",
       "      <td>1</td>\n",
       "      <td>22.595745</td>\n",
       "      <td>0.188324</td>\n",
       "    </tr>\n",
       "    <tr>\n",
       "      <th>1</th>\n",
       "      <td>154</td>\n",
       "      <td>9717</td>\n",
       "      <td>Not Useful</td>\n",
       "      <td>800</td>\n",
       "      <td>1</td>\n",
       "      <td>63.097403</td>\n",
       "      <td>0.082330</td>\n",
       "    </tr>\n",
       "    <tr>\n",
       "      <th>2</th>\n",
       "      <td>306</td>\n",
       "      <td>17820</td>\n",
       "      <td>Not Useful</td>\n",
       "      <td>500</td>\n",
       "      <td>1</td>\n",
       "      <td>58.235294</td>\n",
       "      <td>0.028058</td>\n",
       "    </tr>\n",
       "    <tr>\n",
       "      <th>3</th>\n",
       "      <td>338</td>\n",
       "      <td>28135</td>\n",
       "      <td>Expensive</td>\n",
       "      <td>500</td>\n",
       "      <td>1</td>\n",
       "      <td>83.239645</td>\n",
       "      <td>0.017771</td>\n",
       "    </tr>\n",
       "    <tr>\n",
       "      <th>4</th>\n",
       "      <td>57</td>\n",
       "      <td>5448</td>\n",
       "      <td>Expensive</td>\n",
       "      <td>800</td>\n",
       "      <td>1</td>\n",
       "      <td>95.578947</td>\n",
       "      <td>0.146843</td>\n",
       "    </tr>\n",
       "  </tbody>\n",
       "</table>\n",
       "</div>"
      ],
      "text/plain": [
       "   Duration Used (days)  Total Usage (minutes) Reason for Quitting  \\\n",
       "0                   141                   3186           Expensive   \n",
       "1                   154                   9717          Not Useful   \n",
       "2                   306                  17820          Not Useful   \n",
       "3                   338                  28135           Expensive   \n",
       "4                    57                   5448           Expensive   \n",
       "\n",
       "   Cost Offered (rupees)  Accepted Offer  Approx per day usage (minutes)  \\\n",
       "0                    600               1                       22.595745   \n",
       "1                    800               1                       63.097403   \n",
       "2                    500               1                       58.235294   \n",
       "3                    500               1                       83.239645   \n",
       "4                    800               1                       95.578947   \n",
       "\n",
       "   Cost paid per minute  \n",
       "0              0.188324  \n",
       "1              0.082330  \n",
       "2              0.028058  \n",
       "3              0.017771  \n",
       "4              0.146843  "
      ]
     },
     "execution_count": 11,
     "metadata": {},
     "output_type": "execute_result"
    }
   ],
   "source": [
    "df.head()"
   ]
  },
  {
   "cell_type": "code",
   "execution_count": 12,
   "id": "af395fe1-9292-4f33-9c75-ae78d0fc206c",
   "metadata": {},
   "outputs": [
    {
     "name": "stdout",
     "output_type": "stream",
     "text": [
      "Class distribution in training data:\n",
      "Class 0 (Rejected): 35.98%\n",
      "Class 1 (Accepted): 64.03%\n",
      "Computed class weights: {np.int64(0): np.float64(1.389854065323141), np.int64(1): np.float64(0.7809449433814916)}\n",
      "LogisticRegression - Mean ROC-AUC: 0.6759\n",
      "RandomForest - Mean ROC-AUC: 0.6292\n",
      "XGBoost - Mean ROC-AUC: 0.6365\n",
      "SVM - Mean ROC-AUC: 0.6683\n",
      "\n",
      "Best model: LogisticRegression with ROC-AUC score: 0.6759\n",
      "Processing fold 1/5...\n",
      "Processing fold 2/5...\n",
      "Processing fold 3/5...\n",
      "Processing fold 4/5...\n",
      "Processing fold 5/5...\n",
      "\n",
      "Sample of final recommendations (10 records):\n",
      "      Original Cost Offered  Highest Price Suggested  Price Difference  \\\n",
      "7454                    800               527.627628       -272.372372   \n",
      "3077                    800               541.241241       -258.758759   \n",
      "5227                    800               536.036036       -263.963964   \n",
      "6305                    600               544.044044        -55.955956   \n",
      "3902                    500               528.428428         28.428428   \n",
      "9696                    800               518.018018       -281.981982   \n",
      "5586                    700               534.834835       -165.165165   \n",
      "7303                    500               543.643644         43.643644   \n",
      "1344                    900               531.631632       -368.368368   \n",
      "1739                    700               522.422422       -177.577578   \n",
      "\n",
      "      Price % Change  Accepted Offer (True)  Predicted Acceptance Probability  \\\n",
      "7454          -34.05                      0                          0.393156   \n",
      "3077          -32.34                      1                          0.408598   \n",
      "5227          -33.00                      1                          0.403386   \n",
      "6305           -9.33                      1                          0.642908   \n",
      "3902            5.69                      1                          0.727340   \n",
      "9696          -35.25                      1                          0.382615   \n",
      "5586          -23.60                      1                          0.522708   \n",
      "7303            8.73                      1                          0.740455   \n",
      "1344          -40.93                      1                          0.292640   \n",
      "1739          -25.37                      0                          0.503160   \n",
      "\n",
      "             Threshold Used  Primary Threshold Met  Secondary Threshold Met  \n",
      "7454  below threshold (50%)                      0                        0  \n",
      "3077  below threshold (50%)                      0                        0  \n",
      "5227  below threshold (50%)                      0                        0  \n",
      "6305        secondary (50%)                      0                        1  \n",
      "3902          primary (70%)                      1                        1  \n",
      "9696  below threshold (50%)                      0                        0  \n",
      "5586        secondary (50%)                      0                        1  \n",
      "7303          primary (70%)                      1                        1  \n",
      "1344  below threshold (50%)                      0                        0  \n",
      "1739        secondary (50%)                      0                        1  \n",
      "\n",
      "Test set performance of LogisticRegression:\n",
      "ROC-AUC (threshold independent): 0.6689\n",
      "\n",
      "Primary Threshold (70%) Metrics:\n",
      "Accuracy: 0.4705\n",
      "Precision: 0.8100\n",
      "Recall: 0.2372\n",
      "F1 Score: 0.3670\n",
      "False positives: 72\n",
      "False negatives: 987\n",
      "\n",
      "Secondary Threshold (50%) Metrics:\n",
      "Accuracy: 0.6240\n",
      "Precision: 0.7586\n",
      "Recall: 0.6144\n",
      "F1 Score: 0.6789\n",
      "False positives: 253\n",
      "False negatives: 499\n",
      "\n",
      "False Negative Reduction:\n",
      "Absolute reduction: 488\n",
      "Percentage reduction: 49.44%\n",
      "False Positive Increase: 181\n",
      "This represents a tradeoff: 488 fewer missed opportunities at the cost of 181 more false acceptances\n"
     ]
    }
   ],
   "source": [
    "#Importing the necessary libraries and packages for building a dynamic high pricing recommending model.\n",
    "\n",
    "from sklearn.compose import ColumnTransformer\n",
    "from sklearn.pipeline import Pipeline\n",
    "from sklearn.linear_model import LogisticRegression\n",
    "from sklearn.ensemble import RandomForestClassifier\n",
    "from sklearn.svm import SVC\n",
    "import xgboost as xgb\n",
    "from sklearn.preprocessing import OneHotEncoder, StandardScaler\n",
    "from sklearn.model_selection import train_test_split, KFold, cross_val_score\n",
    "from sklearn.metrics import accuracy_score, roc_auc_score, precision_score, recall_score, f1_score, confusion_matrix\n",
    "from sklearn.utils.class_weight import compute_class_weight\n",
    "\n",
    "#Initializing predictor and target variables as well as categorical and numerical feature columns.\n",
    "\n",
    "X = df.drop(columns=[\"Accepted Offer\"])\n",
    "y = df[\"Accepted Offer\"]\n",
    "\n",
    "cat_features = [\"Reason for Quitting\"]\n",
    "num_features = [\"Duration Used (days)\", \"Total Usage (minutes)\", \"Cost Offered (rupees)\", \"Approx per day usage (minutes)\", \"Cost paid per minute\"]\n",
    "\n",
    "#Applying preprocessing pipeline for scaling and encoding transformations crucial for efficient model training and testing.\n",
    "\n",
    "preprocessor = ColumnTransformer([\n",
    "    ('num', StandardScaler(), num_features),\n",
    "    ('cat', OneHotEncoder(handle_unknown='ignore'), cat_features)\n",
    "])\n",
    "\n",
    "#Data splitting into train and test\n",
    "\n",
    "X_train, X_test, y_train, y_test = train_test_split(X, y, test_size=0.2, random_state=42)\n",
    "\n",
    "#In order to handle class balancing, we can automatically compute class weights based on the training data distribution\n",
    "\n",
    "class_weights = compute_class_weight(class_weight = \"balanced\", classes = np.unique(y_train), y = y_train)\n",
    "class_weight_dict = dict(zip(np.unique(y_train), class_weights))\n",
    "\n",
    "\n",
    "class_distribution = np.bincount(y_train) / len(y_train)\n",
    "print(f\"Class distribution in training data:\")\n",
    "print(f\"Class 0 (Rejected): {class_distribution[0]:.2%}\")\n",
    "print(f\"Class 1 (Accepted): {class_distribution[1]:.2%}\")\n",
    "print(f\"Computed class weights: {class_weight_dict}\")\n",
    "\n",
    "# Determining the minority class and calculating appropriate scale_pos_weight for XGBoost\n",
    "if np.sum(y_train == 0) < np.sum(y_train == 1):\n",
    "    # Class 0 is minority\n",
    "    scale_pos_weight = np.sum(y_train == 1) / np.sum(y_train == 0)\n",
    "    minority_class = 0\n",
    "else:\n",
    "    # Class 1 is minority\n",
    "    scale_pos_weight = np.sum(y_train == 0) / np.sum(y_train == 1)\n",
    "    minority_class = 1\n",
    "\n",
    "#Building model pipelines with appropriate models which result in probabilistic outputs along with the appropriate class balancing.\n",
    "\n",
    "models = {\n",
    "    'LogisticRegression' : Pipeline([\n",
    "        ('preprocessor', preprocessor),\n",
    "        ('classifier', LogisticRegression(max_iter=1000, random_state=42, class_weight=class_weight_dict))\n",
    "    ]),\n",
    "    'RandomForest' : Pipeline([\n",
    "        ('preprocessor', preprocessor),\n",
    "        ('classifier', RandomForestClassifier(n_estimators=100, random_state=42, class_weight=class_weight_dict))\n",
    "    ]),\n",
    "    'XGBoost' : Pipeline([\n",
    "        ('preprocessor', preprocessor),\n",
    "        ('classifier', xgb.XGBClassifier(\n",
    "            n_estimators=100, \n",
    "            random_state=42, \n",
    "            scale_pos_weight=scale_pos_weight if minority_class == 1 else 1/scale_pos_weight\n",
    "        ))\n",
    "    ]),\n",
    "    'SVM' : Pipeline([\n",
    "        ('preprocessor', preprocessor),\n",
    "        ('classifier', SVC(\n",
    "            kernel=\"rbf\",       \n",
    "            probability=True,   \n",
    "            class_weight=class_weight_dict,\n",
    "            random_state=42\n",
    "        ))\n",
    "    ])\n",
    "}\n",
    "\n",
    "#Evaluating all the three models using cross validation with ROC-AUC parameter as the metric.\n",
    "\n",
    "model_scores = {}\n",
    "for name, model in models.items():\n",
    "    cv_scores = cross_val_score(model, X_train, y_train, cv=5, scoring='roc_auc')\n",
    "    model_scores[name] = cv_scores.mean()\n",
    "    print(f\"{name} - Mean ROC-AUC: {cv_scores.mean():.4f}\")\n",
    "\n",
    "#Selecting the best model based on the ROC-AUC score.\n",
    "\n",
    "best_model_name = max(model_scores, key=model_scores.get)\n",
    "best_model = models[best_model_name]\n",
    "print(f\"\\nBest model: {best_model_name} with ROC-AUC score: {model_scores[best_model_name]:.4f}\")\n",
    "\n",
    "\n",
    "#Defining the logic for selecting the highest price at 70% acceptance probability.\n",
    "\n",
    "def get_highest_price(user_row, model, min_price, max_price, primary_threshold=0.7, secondary_threshold=0.5):\n",
    "    price_range = np.linspace(min_price, max_price, 1000)\n",
    "    user_features = user_row.copy()\n",
    "    original_cost = user_features['Cost Offered (rupees)']\n",
    "    user_df = pd.DataFrame([user_features.to_dict()])\n",
    "\n",
    "    #checking whether primary threshold which is 70% is achieved, following which checking the best price.\n",
    "    test_df = user_df.copy()\n",
    "    test_df[\"Cost Offered (rupees)\"] = min_price\n",
    "    min_prob = model.predict_proba(test_df)[:,1][0] #calculating the probability at the minimum price.\n",
    "   \n",
    "    test_df[\"Cost Offered (rupees)\"] = max_price\n",
    "    max_prob = model.predict_proba(test_df)[:,1][0] #calculating the probability at maximum price.\n",
    "\n",
    "    if min_prob >= primary_threshold:\n",
    "        \n",
    "        if max_prob >= primary_threshold:\n",
    "            \n",
    "            return max_price #returning the maximum price if user accepts with the threshold probability.\n",
    "\n",
    "        left = 0\n",
    "        right = len(price_range) - 1\n",
    "        best_price = min_price\n",
    "    \n",
    "        while left <= right:\n",
    "            mid = (left+right)//2\n",
    "            test_df = user_df.copy()\n",
    "            test_df[\"Cost Offered (rupees)\"] = price_range[mid]\n",
    "            prob = model.predict_proba(test_df)[:,1][0]\n",
    "    \n",
    "            if prob >= primary_threshold:\n",
    "                best_price = price_range[mid]\n",
    "                left = mid + 1\n",
    "            else:\n",
    "                right = mid-1\n",
    "                \n",
    "        return best_price\n",
    "\n",
    "    #checking for secondary threshold which is 50%, and returning the maximum price.\n",
    "    if min_prob >= secondary_threshold:\n",
    "\n",
    "        if max_prob >= secondary_threshold:\n",
    "            return max_price\n",
    "\n",
    "        left = 0\n",
    "        right = len(price_range) - 1\n",
    "        best_price = min_price\n",
    "    \n",
    "        while left <= right:\n",
    "            mid = (left+right)//2\n",
    "            test_df = user_df.copy()\n",
    "            test_df[\"Cost Offered (rupees)\"] = price_range[mid]\n",
    "            prob = model.predict_proba(test_df)[:,1][0]\n",
    "    \n",
    "            if prob >= secondary_threshold:\n",
    "                best_price = price_range[mid]\n",
    "                left = mid + 1\n",
    "            else:\n",
    "                right = mid-1\n",
    "                \n",
    "        return best_price\n",
    "        \n",
    "    return original_cost #if the probability is below even the 50% acceptance probability, return the original price.\n",
    "\n",
    "\n",
    "#Training the best model selected on the training set.\n",
    "\n",
    "best_model.fit(X_train, y_train)\n",
    "\n",
    "#Applying k-fold validation for calculating price recommendations on the training set.\n",
    "\n",
    "folds = 5\n",
    "kf = KFold(n_splits=folds, shuffle=True, random_state=42)\n",
    "train_highest_prices = pd.Series(index=X_train.index, dtype=float)\n",
    "train_pred_probs = pd.Series(index=X_train.index, dtype=float)\n",
    "train_threshold_used = pd.Series(index=X_train.index, dtype=str)\n",
    "\n",
    "\n",
    "for fold_idx, (train_idx, val_idx) in enumerate(kf.split(X_train)):\n",
    "    print(f\"Processing fold {fold_idx+1}/{folds}...\")\n",
    "    X_fold_train, X_fold_val = X_train.iloc[train_idx], X_train.iloc[val_idx]\n",
    "    y_fold_train = y_train.iloc[train_idx]\n",
    "\n",
    "    fold_min_cost = X_fold_train[\"Cost Offered (rupees)\"].min()\n",
    "    fold_max_cost = X_fold_train[\"Cost Offered (rupees)\"].max()\n",
    "\n",
    "    fold_model = models[best_model_name].fit(X_fold_train, y_fold_train)\n",
    "\n",
    "    val_probs = fold_model.predict_proba(X_fold_val)[:,1]\n",
    "    train_pred_probs.loc[X_fold_val.index] = val_probs\n",
    "\n",
    "    for idx, row in X_fold_val.iterrows():\n",
    "        highest_price = get_highest_price(row, fold_model, fold_min_cost, fold_max_cost) #can modify the primary threshold and secondary threshold here\n",
    "        train_highest_prices[idx] = highest_price\n",
    "\n",
    "        prob = train_pred_probs[idx]\n",
    "        if prob >= 0.7:\n",
    "            train_threshold_used[idx] = \"primary (70%)\"\n",
    "        elif prob >=0.5:\n",
    "            train_threshold_used[idx] = \"secondary (50%)\"\n",
    "        else:\n",
    "            train_threshold_used[idx] = \"below threshold (50%)\"\n",
    "\n",
    "#Calculating the highest prices for the test set.\n",
    "\n",
    "min_cost = X_train[\"Cost Offered (rupees)\"].min()\n",
    "max_cost = X_train[\"Cost Offered (rupees)\"].max()\n",
    "test_highest_prices = pd.Series(index=X_test.index, dtype=float)\n",
    "test_pred_probs = pd.Series(best_model.predict_proba(X_test)[:,1], index=X_test.index)\n",
    "test_threshold_used = pd.Series(index=X_test.index, dtype=str)\n",
    "\n",
    "\n",
    "\n",
    "for idx, row in X_test.iterrows():\n",
    "    test_highest_price = get_highest_price(row, best_model, min_cost, max_cost)\n",
    "    test_highest_prices[idx] = test_highest_price\n",
    "\n",
    "    prob = test_pred_probs[idx]\n",
    "    if prob >= 0.7:\n",
    "        test_threshold_used[idx] = \"primary (70%)\"\n",
    "    elif prob >= 0.5:\n",
    "        test_threshold_used[idx] = \"secondary (50%)\"\n",
    "    else:\n",
    "        test_threshold_used[idx] = \"below threshold (50%)\"\n",
    "    \n",
    "\n",
    "#Constructing the final dataframe with results.\n",
    "\n",
    "df_with_prices = df.copy()\n",
    "df_with_prices.loc[X_train.index, 'Highest Price Suggested'] = train_highest_prices\n",
    "df_with_prices.loc[X_test.index, 'Highest Price Suggested'] = test_highest_prices\n",
    "df_with_prices['Original Cost Offered'] = df_with_prices['Cost Offered (rupees)']\n",
    "\n",
    "\n",
    "df_with_prices.loc[X_train.index, 'Predicted Acceptance Probability'] = train_pred_probs\n",
    "df_with_prices.loc[X_test.index, 'Predicted Acceptance Probability'] = test_pred_probs\n",
    "\n",
    "df_with_prices.loc[X_train.index, 'Threshold Used'] = train_threshold_used\n",
    "df_with_prices.loc[X_test.index, 'Threshold Used'] = test_threshold_used\n",
    "\n",
    "# Determining the model prediction using a threshold of 0.7 and 0.5\n",
    "df_with_prices['Primary Threshold Met'] = (df_with_prices['Predicted Acceptance Probability'] >= 0.7).astype(int)\n",
    "df_with_prices['Secondary Threshold Met'] = (df_with_prices['Predicted Acceptance Probability'] >= 0.5).astype(int)\n",
    "\n",
    "# Including the true/original accepted offer for reference.\n",
    "df_with_prices['Accepted Offer (True)'] = df_with_prices['Accepted Offer']\n",
    "\n",
    "\n",
    "df_with_prices['Price Difference'] = df_with_prices['Highest Price Suggested'] - df_with_prices['Original Cost Offered']\n",
    "df_with_prices['Price % Change'] = (df_with_prices['Price Difference'] / df_with_prices['Original Cost Offered'] * 100).round(2)\n",
    "\n",
    "\n",
    "\n",
    "print(\"\\nSample of final recommendations (10 records):\")\n",
    "sample_cols = [\n",
    "    'Original Cost Offered', 'Highest Price Suggested', 'Price Difference', 'Price % Change',\n",
    "    'Accepted Offer (True)', 'Predicted Acceptance Probability', 'Threshold Used', \n",
    "    'Primary Threshold Met', 'Secondary Threshold Met'\n",
    "]\n",
    "print(df_with_prices[sample_cols].sample(10))\n",
    "\n",
    "# Evaluating the performance on the test set.\n",
    "y_test_pred = best_model.predict(X_test)\n",
    "y_test_prob = best_model.predict_proba(X_test)[:, 1]\n",
    "\n",
    "# Default model performance (using sklearn's default 0.5 threshold)\n",
    "test_accuracy = accuracy_score(y_test, y_test_pred)\n",
    "test_auc = roc_auc_score(y_test, y_test_prob)\n",
    "test_precision = precision_score(y_test, y_test_pred)\n",
    "test_recall = recall_score(y_test, y_test_pred)\n",
    "test_f1 = f1_score(y_test, y_test_pred)\n",
    "\n",
    "\n",
    "# Performance at primary threshold (70%)\n",
    "primary_threshold = 0.7\n",
    "predicted_primary = (y_test_prob >= primary_threshold).astype(int)\n",
    "primary_accuracy = accuracy_score(y_test, predicted_primary)\n",
    "primary_precision = precision_score(y_test, predicted_primary)\n",
    "primary_recall = recall_score(y_test, predicted_primary)\n",
    "primary_f1 = f1_score(y_test, predicted_primary)\n",
    "primary_fp = ((predicted_primary == 1) & (y_test == 0)).sum()\n",
    "primary_fn = ((predicted_primary == 0) & (y_test == 1)).sum()\n",
    "\n",
    "\n",
    "# Performance at secondary threshold (50%)\n",
    "secondary_threshold = 0.5\n",
    "predicted_secondary = (y_test_prob >= secondary_threshold).astype(int)\n",
    "secondary_accuracy = accuracy_score(y_test, predicted_secondary)\n",
    "secondary_precision = precision_score(y_test, predicted_secondary)\n",
    "secondary_recall = recall_score(y_test, predicted_secondary)\n",
    "secondary_f1 = f1_score(y_test, predicted_secondary)\n",
    "secondary_fp = ((predicted_secondary == 1) & (y_test == 0)).sum()\n",
    "secondary_fn = ((predicted_secondary == 0) & (y_test == 1)).sum()\n",
    "\n",
    "\n",
    "\n",
    "print(f\"\\nTest set performance of {best_model_name}:\")\n",
    "print(f\"ROC-AUC (threshold independent): {test_auc:.4f}\")\n",
    "\n",
    "print(f\"\\nPrimary Threshold (70%) Metrics:\")\n",
    "print(f\"Accuracy: {primary_accuracy:.4f}\")\n",
    "print(f\"Precision: {primary_precision:.4f}\")\n",
    "print(f\"Recall: {primary_recall:.4f}\")\n",
    "print(f\"F1 Score: {primary_f1:.4f}\")\n",
    "print(f\"False positives: {primary_fp}\")\n",
    "print(f\"False negatives: {primary_fn}\")\n",
    "\n",
    "print(f\"\\nSecondary Threshold (50%) Metrics:\")\n",
    "print(f\"Accuracy: {secondary_accuracy:.4f}\")\n",
    "print(f\"Precision: {secondary_precision:.4f}\")\n",
    "print(f\"Recall: {secondary_recall:.4f}\")\n",
    "print(f\"F1 Score: {secondary_f1:.4f}\")\n",
    "print(f\"False positives: {secondary_fp}\")\n",
    "print(f\"False negatives: {secondary_fn}\")\n",
    "\n",
    "# Calculating the improvement in false negatives.\n",
    "fn_reduction = primary_fn - secondary_fn\n",
    "fn_reduction_percent = (fn_reduction / primary_fn * 100) if primary_fn > 0 else 0\n",
    "\n",
    "print(f\"\\nFalse Negative Reduction:\")\n",
    "print(f\"Absolute reduction: {fn_reduction}\")\n",
    "print(f\"Percentage reduction: {fn_reduction_percent:.2f}%\")\n",
    "\n",
    "# Calculating the tradeoff with false positives.\n",
    "fp_increase = secondary_fp - primary_fp\n",
    "print(f\"False Positive Increase: {fp_increase}\")\n",
    "print(f\"This represents a tradeoff: {fn_reduction} fewer missed opportunities at the cost of {fp_increase} more false acceptances\")\n",
    "\n",
    "\n"
   ]
  },
  {
   "cell_type": "code",
   "execution_count": 13,
   "id": "1cbcfb42-f419-4781-87b3-a7d8c7e0b754",
   "metadata": {},
   "outputs": [],
   "source": [
    "result_df = df_with_prices.copy()"
   ]
  },
  {
   "cell_type": "code",
   "execution_count": 14,
   "id": "de6ccda3-8dfb-47bb-974d-db8ae7c6bfbc",
   "metadata": {},
   "outputs": [],
   "source": [
    "result_df.drop(columns=[\"Accepted Offer\", \"Duration Used (days)\", \"Total Usage (minutes)\", \"Reason for Quitting\", \"Cost Offered (rupees)\", \"Approx per day usage (minutes)\",\"Cost paid per minute\"], inplace=True)\n"
   ]
  },
  {
   "cell_type": "code",
   "execution_count": 15,
   "id": "0f4db69f-bbeb-493f-b77f-cee80f577002",
   "metadata": {},
   "outputs": [
    {
     "data": {
      "text/html": [
       "<div>\n",
       "<style scoped>\n",
       "    .dataframe tbody tr th:only-of-type {\n",
       "        vertical-align: middle;\n",
       "    }\n",
       "\n",
       "    .dataframe tbody tr th {\n",
       "        vertical-align: top;\n",
       "    }\n",
       "\n",
       "    .dataframe thead th {\n",
       "        text-align: right;\n",
       "    }\n",
       "</style>\n",
       "<table border=\"1\" class=\"dataframe\">\n",
       "  <thead>\n",
       "    <tr style=\"text-align: right;\">\n",
       "      <th></th>\n",
       "      <th>Highest Price Suggested</th>\n",
       "      <th>Original Cost Offered</th>\n",
       "      <th>Predicted Acceptance Probability</th>\n",
       "      <th>Threshold Used</th>\n",
       "      <th>Primary Threshold Met</th>\n",
       "      <th>Secondary Threshold Met</th>\n",
       "      <th>Accepted Offer (True)</th>\n",
       "      <th>Price Difference</th>\n",
       "      <th>Price % Change</th>\n",
       "    </tr>\n",
       "  </thead>\n",
       "  <tbody>\n",
       "    <tr>\n",
       "      <th>0</th>\n",
       "      <td>533.633634</td>\n",
       "      <td>600</td>\n",
       "      <td>0.630970</td>\n",
       "      <td>secondary (50%)</td>\n",
       "      <td>0</td>\n",
       "      <td>1</td>\n",
       "      <td>1</td>\n",
       "      <td>-66.366366</td>\n",
       "      <td>-11.06</td>\n",
       "    </tr>\n",
       "    <tr>\n",
       "      <th>1</th>\n",
       "      <td>538.038038</td>\n",
       "      <td>800</td>\n",
       "      <td>0.412918</td>\n",
       "      <td>below threshold (50%)</td>\n",
       "      <td>0</td>\n",
       "      <td>0</td>\n",
       "      <td>1</td>\n",
       "      <td>-261.961962</td>\n",
       "      <td>-32.75</td>\n",
       "    </tr>\n",
       "    <tr>\n",
       "      <th>2</th>\n",
       "      <td>539.639640</td>\n",
       "      <td>500</td>\n",
       "      <td>0.736917</td>\n",
       "      <td>primary (70%)</td>\n",
       "      <td>1</td>\n",
       "      <td>1</td>\n",
       "      <td>1</td>\n",
       "      <td>39.639640</td>\n",
       "      <td>7.93</td>\n",
       "    </tr>\n",
       "    <tr>\n",
       "      <th>3</th>\n",
       "      <td>541.241241</td>\n",
       "      <td>500</td>\n",
       "      <td>0.739443</td>\n",
       "      <td>primary (70%)</td>\n",
       "      <td>1</td>\n",
       "      <td>1</td>\n",
       "      <td>1</td>\n",
       "      <td>41.241241</td>\n",
       "      <td>8.25</td>\n",
       "    </tr>\n",
       "    <tr>\n",
       "      <th>4</th>\n",
       "      <td>524.424424</td>\n",
       "      <td>800</td>\n",
       "      <td>0.388166</td>\n",
       "      <td>below threshold (50%)</td>\n",
       "      <td>0</td>\n",
       "      <td>0</td>\n",
       "      <td>1</td>\n",
       "      <td>-275.575576</td>\n",
       "      <td>-34.45</td>\n",
       "    </tr>\n",
       "  </tbody>\n",
       "</table>\n",
       "</div>"
      ],
      "text/plain": [
       "   Highest Price Suggested  Original Cost Offered  \\\n",
       "0               533.633634                    600   \n",
       "1               538.038038                    800   \n",
       "2               539.639640                    500   \n",
       "3               541.241241                    500   \n",
       "4               524.424424                    800   \n",
       "\n",
       "   Predicted Acceptance Probability         Threshold Used  \\\n",
       "0                          0.630970        secondary (50%)   \n",
       "1                          0.412918  below threshold (50%)   \n",
       "2                          0.736917          primary (70%)   \n",
       "3                          0.739443          primary (70%)   \n",
       "4                          0.388166  below threshold (50%)   \n",
       "\n",
       "   Primary Threshold Met  Secondary Threshold Met  Accepted Offer (True)  \\\n",
       "0                      0                        1                      1   \n",
       "1                      0                        0                      1   \n",
       "2                      1                        1                      1   \n",
       "3                      1                        1                      1   \n",
       "4                      0                        0                      1   \n",
       "\n",
       "   Price Difference  Price % Change  \n",
       "0        -66.366366          -11.06  \n",
       "1       -261.961962          -32.75  \n",
       "2         39.639640            7.93  \n",
       "3         41.241241            8.25  \n",
       "4       -275.575576          -34.45  "
      ]
     },
     "execution_count": 15,
     "metadata": {},
     "output_type": "execute_result"
    }
   ],
   "source": [
    "result_df.head()"
   ]
  },
  {
   "cell_type": "code",
   "execution_count": 28,
   "id": "7ebca057-2fa6-449d-b047-6f8541290137",
   "metadata": {},
   "outputs": [],
   "source": [
    "#Customers who in reality, accepted the offer irrespective of the model's prediction (priority).\n",
    "true_accepted = result_df[result_df[\"Accepted Offer (True)\"]==1]"
   ]
  },
  {
   "cell_type": "code",
   "execution_count": 29,
   "id": "8aa831d4-03a3-4f78-a2f9-961ba4efbf70",
   "metadata": {},
   "outputs": [
    {
     "data": {
      "text/html": [
       "<div>\n",
       "<style scoped>\n",
       "    .dataframe tbody tr th:only-of-type {\n",
       "        vertical-align: middle;\n",
       "    }\n",
       "\n",
       "    .dataframe tbody tr th {\n",
       "        vertical-align: top;\n",
       "    }\n",
       "\n",
       "    .dataframe thead th {\n",
       "        text-align: right;\n",
       "    }\n",
       "</style>\n",
       "<table border=\"1\" class=\"dataframe\">\n",
       "  <thead>\n",
       "    <tr style=\"text-align: right;\">\n",
       "      <th></th>\n",
       "      <th>Highest Price Suggested</th>\n",
       "      <th>Original Cost Offered</th>\n",
       "      <th>Predicted Acceptance Probability</th>\n",
       "      <th>Threshold Used</th>\n",
       "      <th>Primary Threshold Met</th>\n",
       "      <th>Secondary Threshold Met</th>\n",
       "      <th>Accepted Offer (True)</th>\n",
       "      <th>Price Difference</th>\n",
       "      <th>Price % Change</th>\n",
       "    </tr>\n",
       "  </thead>\n",
       "  <tbody>\n",
       "    <tr>\n",
       "      <th>0</th>\n",
       "      <td>533.633634</td>\n",
       "      <td>600</td>\n",
       "      <td>0.630970</td>\n",
       "      <td>secondary (50%)</td>\n",
       "      <td>0</td>\n",
       "      <td>1</td>\n",
       "      <td>1</td>\n",
       "      <td>-66.366366</td>\n",
       "      <td>-11.06</td>\n",
       "    </tr>\n",
       "    <tr>\n",
       "      <th>1</th>\n",
       "      <td>538.038038</td>\n",
       "      <td>800</td>\n",
       "      <td>0.412918</td>\n",
       "      <td>below threshold (50%)</td>\n",
       "      <td>0</td>\n",
       "      <td>0</td>\n",
       "      <td>1</td>\n",
       "      <td>-261.961962</td>\n",
       "      <td>-32.75</td>\n",
       "    </tr>\n",
       "    <tr>\n",
       "      <th>2</th>\n",
       "      <td>539.639640</td>\n",
       "      <td>500</td>\n",
       "      <td>0.736917</td>\n",
       "      <td>primary (70%)</td>\n",
       "      <td>1</td>\n",
       "      <td>1</td>\n",
       "      <td>1</td>\n",
       "      <td>39.639640</td>\n",
       "      <td>7.93</td>\n",
       "    </tr>\n",
       "    <tr>\n",
       "      <th>3</th>\n",
       "      <td>541.241241</td>\n",
       "      <td>500</td>\n",
       "      <td>0.739443</td>\n",
       "      <td>primary (70%)</td>\n",
       "      <td>1</td>\n",
       "      <td>1</td>\n",
       "      <td>1</td>\n",
       "      <td>41.241241</td>\n",
       "      <td>8.25</td>\n",
       "    </tr>\n",
       "    <tr>\n",
       "      <th>4</th>\n",
       "      <td>524.424424</td>\n",
       "      <td>800</td>\n",
       "      <td>0.388166</td>\n",
       "      <td>below threshold (50%)</td>\n",
       "      <td>0</td>\n",
       "      <td>0</td>\n",
       "      <td>1</td>\n",
       "      <td>-275.575576</td>\n",
       "      <td>-34.45</td>\n",
       "    </tr>\n",
       "    <tr>\n",
       "      <th>...</th>\n",
       "      <td>...</td>\n",
       "      <td>...</td>\n",
       "      <td>...</td>\n",
       "      <td>...</td>\n",
       "      <td>...</td>\n",
       "      <td>...</td>\n",
       "      <td>...</td>\n",
       "      <td>...</td>\n",
       "      <td>...</td>\n",
       "    </tr>\n",
       "    <tr>\n",
       "      <th>9986</th>\n",
       "      <td>512.012012</td>\n",
       "      <td>800</td>\n",
       "      <td>0.384350</td>\n",
       "      <td>below threshold (50%)</td>\n",
       "      <td>0</td>\n",
       "      <td>0</td>\n",
       "      <td>1</td>\n",
       "      <td>-287.987988</td>\n",
       "      <td>-36.00</td>\n",
       "    </tr>\n",
       "    <tr>\n",
       "      <th>9991</th>\n",
       "      <td>541.641642</td>\n",
       "      <td>800</td>\n",
       "      <td>0.409125</td>\n",
       "      <td>below threshold (50%)</td>\n",
       "      <td>0</td>\n",
       "      <td>0</td>\n",
       "      <td>1</td>\n",
       "      <td>-258.358358</td>\n",
       "      <td>-32.29</td>\n",
       "    </tr>\n",
       "    <tr>\n",
       "      <th>9995</th>\n",
       "      <td>521.621622</td>\n",
       "      <td>600</td>\n",
       "      <td>0.617614</td>\n",
       "      <td>secondary (50%)</td>\n",
       "      <td>0</td>\n",
       "      <td>1</td>\n",
       "      <td>1</td>\n",
       "      <td>-78.378378</td>\n",
       "      <td>-13.06</td>\n",
       "    </tr>\n",
       "    <tr>\n",
       "      <th>9996</th>\n",
       "      <td>534.834835</td>\n",
       "      <td>500</td>\n",
       "      <td>0.733575</td>\n",
       "      <td>primary (70%)</td>\n",
       "      <td>1</td>\n",
       "      <td>1</td>\n",
       "      <td>1</td>\n",
       "      <td>34.834835</td>\n",
       "      <td>6.97</td>\n",
       "    </tr>\n",
       "    <tr>\n",
       "      <th>9999</th>\n",
       "      <td>515.215215</td>\n",
       "      <td>500</td>\n",
       "      <td>0.714444</td>\n",
       "      <td>primary (70%)</td>\n",
       "      <td>1</td>\n",
       "      <td>1</td>\n",
       "      <td>1</td>\n",
       "      <td>15.215215</td>\n",
       "      <td>3.04</td>\n",
       "    </tr>\n",
       "  </tbody>\n",
       "</table>\n",
       "<p>6416 rows × 9 columns</p>\n",
       "</div>"
      ],
      "text/plain": [
       "      Highest Price Suggested  Original Cost Offered  \\\n",
       "0                  533.633634                    600   \n",
       "1                  538.038038                    800   \n",
       "2                  539.639640                    500   \n",
       "3                  541.241241                    500   \n",
       "4                  524.424424                    800   \n",
       "...                       ...                    ...   \n",
       "9986               512.012012                    800   \n",
       "9991               541.641642                    800   \n",
       "9995               521.621622                    600   \n",
       "9996               534.834835                    500   \n",
       "9999               515.215215                    500   \n",
       "\n",
       "      Predicted Acceptance Probability         Threshold Used  \\\n",
       "0                             0.630970        secondary (50%)   \n",
       "1                             0.412918  below threshold (50%)   \n",
       "2                             0.736917          primary (70%)   \n",
       "3                             0.739443          primary (70%)   \n",
       "4                             0.388166  below threshold (50%)   \n",
       "...                                ...                    ...   \n",
       "9986                          0.384350  below threshold (50%)   \n",
       "9991                          0.409125  below threshold (50%)   \n",
       "9995                          0.617614        secondary (50%)   \n",
       "9996                          0.733575          primary (70%)   \n",
       "9999                          0.714444          primary (70%)   \n",
       "\n",
       "      Primary Threshold Met  Secondary Threshold Met  Accepted Offer (True)  \\\n",
       "0                         0                        1                      1   \n",
       "1                         0                        0                      1   \n",
       "2                         1                        1                      1   \n",
       "3                         1                        1                      1   \n",
       "4                         0                        0                      1   \n",
       "...                     ...                      ...                    ...   \n",
       "9986                      0                        0                      1   \n",
       "9991                      0                        0                      1   \n",
       "9995                      0                        1                      1   \n",
       "9996                      1                        1                      1   \n",
       "9999                      1                        1                      1   \n",
       "\n",
       "      Price Difference  Price % Change  \n",
       "0           -66.366366          -11.06  \n",
       "1          -261.961962          -32.75  \n",
       "2            39.639640            7.93  \n",
       "3            41.241241            8.25  \n",
       "4          -275.575576          -34.45  \n",
       "...                ...             ...  \n",
       "9986       -287.987988          -36.00  \n",
       "9991       -258.358358          -32.29  \n",
       "9995        -78.378378          -13.06  \n",
       "9996         34.834835            6.97  \n",
       "9999         15.215215            3.04  \n",
       "\n",
       "[6416 rows x 9 columns]"
      ]
     },
     "execution_count": 29,
     "metadata": {},
     "output_type": "execute_result"
    }
   ],
   "source": [
    "true_accepted"
   ]
  },
  {
   "cell_type": "code",
   "execution_count": 18,
   "id": "c5e8fcd7-7d4b-4897-a66a-431e9a60e1be",
   "metadata": {},
   "outputs": [
    {
     "data": {
      "text/plain": [
       "Threshold Used\n",
       "secondary (50%)          2576\n",
       "below threshold (50%)    2282\n",
       "primary (70%)            1558\n",
       "Name: count, dtype: int64"
      ]
     },
     "execution_count": 18,
     "metadata": {},
     "output_type": "execute_result"
    }
   ],
   "source": [
    "true_accepted[\"Threshold Used\"].value_counts()"
   ]
  },
  {
   "cell_type": "code",
   "execution_count": 19,
   "id": "56b2a31b-bb7f-49af-a181-46d97f6e64ad",
   "metadata": {},
   "outputs": [
    {
     "data": {
      "image/png": "[encoded data removed]",
      "text/plain": [
       "<Figure size 600x600 with 1 Axes>"
      ]
     },
     "metadata": {},
     "output_type": "display_data"
    }
   ],
   "source": [
    "threshold_counts = true_accepted[\"Threshold Used\"].value_counts(normalize=True).round(4) * 100\n",
    "\n",
    "colors = [\"blue\", \"orange\", \"green\"]\n",
    "labels = threshold_counts.index.tolist()\n",
    "\n",
    "if \"below threshold (50%)\" in labels:\n",
    "    labels[labels.index(\"below threshold (50%)\")] += \" (False Negatives)\"\n",
    "\n",
    "plt.figure(figsize=(6, 6))\n",
    "plt.pie(threshold_counts, labels=labels, autopct=\"%1.1f%%\", colors=colors)\n",
    "plt.title(\"Distribution of Threshold Used\")\n",
    "plt.show()"
   ]
  },
  {
   "cell_type": "markdown",
   "id": "de1719ec-0842-40c8-bf11-528fc61d9c57",
   "metadata": {},
   "source": [
    "### Visualizing the total count and % of the users who are liable to be recommended higher prices as well as the average price increase from the original cost offered."
   ]
  },
  {
   "cell_type": "code",
   "execution_count": 22,
   "id": "b15c3358-a6da-4a45-bf13-3002e454b26a",
   "metadata": {},
   "outputs": [
    {
     "data": {
      "application/vnd.plotly.v1+json": {
       "config": {
        "plotlyServerURL": "https://plot.ly"
       },
       "data": [
        {
         "marker": {
          "color": "blue"
         },
         "name": "Number of customers to present with higher pricing",
         "type": "bar",
         "x": [
          "Primary (>=70%)",
          "Secondary (>=50%)"
         ],
         "xaxis": "x",
         "y": [
          1557,
          41
         ],
         "yaxis": "y"
        },
        {
         "marker": {
          "color": "orange"
         },
         "name": "Percentage of total customers",
         "type": "bar",
         "x": [
          "Primary (>=70%)",
          "Secondary (>=50%)"
         ],
         "xaxis": "x2",
         "y": [
          15.57,
          0.41000000000000003
         ],
         "yaxis": "y2"
        },
        {
         "marker": {
          "color": "green"
         },
         "name": "Avg price increase from the original",
         "type": "bar",
         "x": [
          "Primary (>=70%)",
          "Secondary (>=50%)"
         ],
         "xaxis": "x3",
         "y": [
          32.37077797129179,
          125.79896970140872
         ],
         "yaxis": "y3"
        },
        {
         "marker": {
          "color": "red"
         },
         "name": "Percentage of Avg price increase",
         "type": "bar",
         "x": [
          "Primary (>=70%)",
          "Secondary (>=50%)"
         ],
         "xaxis": "x4",
         "y": [
          6.473324081852211,
          23.128958554967525
         ],
         "yaxis": "y4"
        }
       ],
       "layout": {
        "annotations": [
         {
          "font": {
           "size": 16
          },
          "showarrow": false,
          "text": "Absolute Counts of Users",
          "x": 0.225,
          "xanchor": "center",
          "xref": "paper",
          "y": 1,
          "yanchor": "bottom",
          "yref": "paper"
         },
         {
          "font": {
           "size": 16
          },
          "showarrow": false,
          "text": "Percentage of Total Users",
          "x": 0.775,
          "xanchor": "center",
          "xref": "paper",
          "y": 1,
          "yanchor": "bottom",
          "yref": "paper"
         },
         {
          "font": {
           "size": 16
          },
          "showarrow": false,
          "text": "Average Price Increase",
          "x": 0.225,
          "xanchor": "center",
          "xref": "paper",
          "y": 0.375,
          "yanchor": "bottom",
          "yref": "paper"
         },
         {
          "font": {
           "size": 16
          },
          "showarrow": false,
          "text": "Percentage of Avg Price Increase",
          "x": 0.775,
          "xanchor": "center",
          "xref": "paper",
          "y": 0.375,
          "yanchor": "bottom",
          "yref": "paper"
         }
        ],
        "height": 800,
        "showlegend": true,
        "template": {
         "data": {
          "bar": [
           {
            "error_x": {
             "color": "#2a3f5f"
            },
            "error_y": {
             "color": "#2a3f5f"
            },
            "marker": {
             "line": {
              "color": "#E5ECF6",
              "width": 0.5
             },
             "pattern": {
              "fillmode": "overlay",
              "size": 10,
              "solidity": 0.2
             }
            },
            "type": "bar"
           }
          ],
          "barpolar": [
           {
            "marker": {
             "line": {
              "color": "#E5ECF6",
              "width": 0.5
             },
             "pattern": {
              "fillmode": "overlay",
              "size": 10,
              "solidity": 0.2
             }
            },
            "type": "barpolar"
           }
          ],
          "carpet": [
           {
            "aaxis": {
             "endlinecolor": "#2a3f5f",
             "gridcolor": "white",
             "linecolor": "white",
             "minorgridcolor": "white",
             "startlinecolor": "#2a3f5f"
            },
            "baxis": {
             "endlinecolor": "#2a3f5f",
             "gridcolor": "white",
             "linecolor": "white",
             "minorgridcolor": "white",
             "startlinecolor": "#2a3f5f"
            },
            "type": "carpet"
           }
          ],
          "choropleth": [
           {
            "colorbar": {
             "outlinewidth": 0,
             "ticks": ""
            },
            "type": "choropleth"
           }
          ],
          "contour": [
           {
            "colorbar": {
             "outlinewidth": 0,
             "ticks": ""
            },
            "colorscale": [
             [
              0,
              "#0d0887"
             ],
             [
              0.1111111111111111,
              "#46039f"
             ],
             [
              0.2222222222222222,
              "#7201a8"
             ],
             [
              0.3333333333333333,
              "#9c179e"
             ],
             [
              0.4444444444444444,
              "#bd3786"
             ],
             [
              0.5555555555555556,
              "#d8576b"
             ],
             [
              0.6666666666666666,
              "#ed7953"
             ],
             [
              0.7777777777777778,
              "#fb9f3a"
             ],
             [
              0.8888888888888888,
              "#fdca26"
             ],
             [
              1,
              "#f0f921"
             ]
            ],
            "type": "contour"
           }
          ],
          "contourcarpet": [
           {
            "colorbar": {
             "outlinewidth": 0,
             "ticks": ""
            },
            "type": "contourcarpet"
           }
          ],
          "heatmap": [
           {
            "colorbar": {
             "outlinewidth": 0,
             "ticks": ""
            },
            "colorscale": [
             [
              0,
              "#0d0887"
             ],
             [
              0.1111111111111111,
              "#46039f"
             ],
             [
              0.2222222222222222,
              "#7201a8"
             ],
             [
              0.3333333333333333,
              "#9c179e"
             ],
             [
              0.4444444444444444,
              "#bd3786"
             ],
             [
              0.5555555555555556,
              "#d8576b"
             ],
             [
              0.6666666666666666,
              "#ed7953"
             ],
             [
              0.7777777777777778,
              "#fb9f3a"
             ],
             [
              0.8888888888888888,
              "#fdca26"
             ],
             [
              1,
              "#f0f921"
             ]
            ],
            "type": "heatmap"
           }
          ],
          "histogram": [
           {
            "marker": {
             "pattern": {
              "fillmode": "overlay",
              "size": 10,
              "solidity": 0.2
             }
            },
            "type": "histogram"
           }
          ],
          "histogram2d": [
           {
            "colorbar": {
             "outlinewidth": 0,
             "ticks": ""
            },
            "colorscale": [
             [
              0,
              "#0d0887"
             ],
             [
              0.1111111111111111,
              "#46039f"
             ],
             [
              0.2222222222222222,
              "#7201a8"
             ],
             [
              0.3333333333333333,
              "#9c179e"
             ],
             [
              0.4444444444444444,
              "#bd3786"
             ],
             [
              0.5555555555555556,
              "#d8576b"
             ],
             [
              0.6666666666666666,
              "#ed7953"
             ],
             [
              0.7777777777777778,
              "#fb9f3a"
             ],
             [
              0.8888888888888888,
              "#fdca26"
             ],
             [
              1,
              "#f0f921"
             ]
            ],
            "type": "histogram2d"
           }
          ],
          "histogram2dcontour": [
           {
            "colorbar": {
             "outlinewidth": 0,
             "ticks": ""
            },
            "colorscale": [
             [
              0,
              "#0d0887"
             ],
             [
              0.1111111111111111,
              "#46039f"
             ],
             [
              0.2222222222222222,
              "#7201a8"
             ],
             [
              0.3333333333333333,
              "#9c179e"
             ],
             [
              0.4444444444444444,
              "#bd3786"
             ],
             [
              0.5555555555555556,
              "#d8576b"
             ],
             [
              0.6666666666666666,
              "#ed7953"
             ],
             [
              0.7777777777777778,
              "#fb9f3a"
             ],
             [
              0.8888888888888888,
              "#fdca26"
             ],
             [
              1,
              "#f0f921"
             ]
            ],
            "type": "histogram2dcontour"
           }
          ],
          "mesh3d": [
           {
            "colorbar": {
             "outlinewidth": 0,
             "ticks": ""
            },
            "type": "mesh3d"
           }
          ],
          "parcoords": [
           {
            "line": {
             "colorbar": {
              "outlinewidth": 0,
              "ticks": ""
             }
            },
            "type": "parcoords"
           }
          ],
          "pie": [
           {
            "automargin": true,
            "type": "pie"
           }
          ],
          "scatter": [
           {
            "fillpattern": {
             "fillmode": "overlay",
             "size": 10,
             "solidity": 0.2
            },
            "type": "scatter"
           }
          ],
          "scatter3d": [
           {
            "line": {
             "colorbar": {
              "outlinewidth": 0,
              "ticks": ""
             }
            },
            "marker": {
             "colorbar": {
              "outlinewidth": 0,
              "ticks": ""
             }
            },
            "type": "scatter3d"
           }
          ],
          "scattercarpet": [
           {
            "marker": {
             "colorbar": {
              "outlinewidth": 0,
              "ticks": ""
             }
            },
            "type": "scattercarpet"
           }
          ],
          "scattergeo": [
           {
            "marker": {
             "colorbar": {
              "outlinewidth": 0,
              "ticks": ""
             }
            },
            "type": "scattergeo"
           }
          ],
          "scattergl": [
           {
            "marker": {
             "colorbar": {
              "outlinewidth": 0,
              "ticks": ""
             }
            },
            "type": "scattergl"
           }
          ],
          "scattermap": [
           {
            "marker": {
             "colorbar": {
              "outlinewidth": 0,
              "ticks": ""
             }
            },
            "type": "scattermap"
           }
          ],
          "scattermapbox": [
           {
            "marker": {
             "colorbar": {
              "outlinewidth": 0,
              "ticks": ""
             }
            },
            "type": "scattermapbox"
           }
          ],
          "scatterpolar": [
           {
            "marker": {
             "colorbar": {
              "outlinewidth": 0,
              "ticks": ""
             }
            },
            "type": "scatterpolar"
           }
          ],
          "scatterpolargl": [
           {
            "marker": {
             "colorbar": {
              "outlinewidth": 0,
              "ticks": ""
             }
            },
            "type": "scatterpolargl"
           }
          ],
          "scatterternary": [
           {
            "marker": {
             "colorbar": {
              "outlinewidth": 0,
              "ticks": ""
             }
            },
            "type": "scatterternary"
           }
          ],
          "surface": [
           {
            "colorbar": {
             "outlinewidth": 0,
             "ticks": ""
            },
            "colorscale": [
             [
              0,
              "#0d0887"
             ],
             [
              0.1111111111111111,
              "#46039f"
             ],
             [
              0.2222222222222222,
              "#7201a8"
             ],
             [
              0.3333333333333333,
              "#9c179e"
             ],
             [
              0.4444444444444444,
              "#bd3786"
             ],
             [
              0.5555555555555556,
              "#d8576b"
             ],
             [
              0.6666666666666666,
              "#ed7953"
             ],
             [
              0.7777777777777778,
              "#fb9f3a"
             ],
             [
              0.8888888888888888,
              "#fdca26"
             ],
             [
              1,
              "#f0f921"
             ]
            ],
            "type": "surface"
           }
          ],
          "table": [
           {
            "cells": {
             "fill": {
              "color": "#EBF0F8"
             },
             "line": {
              "color": "white"
             }
            },
            "header": {
             "fill": {
              "color": "#C8D4E3"
             },
             "line": {
              "color": "white"
             }
            },
            "type": "table"
           }
          ]
         },
         "layout": {
          "annotationdefaults": {
           "arrowcolor": "#2a3f5f",
           "arrowhead": 0,
           "arrowwidth": 1
          },
          "autotypenumbers": "strict",
          "coloraxis": {
           "colorbar": {
            "outlinewidth": 0,
            "ticks": ""
           }
          },
          "colorscale": {
           "diverging": [
            [
             0,
             "#8e0152"
            ],
            [
             0.1,
             "#c51b7d"
            ],
            [
             0.2,
             "#de77ae"
            ],
            [
             0.3,
             "#f1b6da"
            ],
            [
             0.4,
             "#fde0ef"
            ],
            [
             0.5,
             "#f7f7f7"
            ],
            [
             0.6,
             "#e6f5d0"
            ],
            [
             0.7,
             "#b8e186"
            ],
            [
             0.8,
             "#7fbc41"
            ],
            [
             0.9,
             "#4d9221"
            ],
            [
             1,
             "#276419"
            ]
           ],
           "sequential": [
            [
             0,
             "#0d0887"
            ],
            [
             0.1111111111111111,
             "#46039f"
            ],
            [
             0.2222222222222222,
             "#7201a8"
            ],
            [
             0.3333333333333333,
             "#9c179e"
            ],
            [
             0.4444444444444444,
             "#bd3786"
            ],
            [
             0.5555555555555556,
             "#d8576b"
            ],
            [
             0.6666666666666666,
             "#ed7953"
            ],
            [
             0.7777777777777778,
             "#fb9f3a"
            ],
            [
             0.8888888888888888,
             "#fdca26"
            ],
            [
             1,
             "#f0f921"
            ]
           ],
           "sequentialminus": [
            [
             0,
             "#0d0887"
            ],
            [
             0.1111111111111111,
             "#46039f"
            ],
            [
             0.2222222222222222,
             "#7201a8"
            ],
            [
             0.3333333333333333,
             "#9c179e"
            ],
            [
             0.4444444444444444,
             "#bd3786"
            ],
            [
             0.5555555555555556,
             "#d8576b"
            ],
            [
             0.6666666666666666,
             "#ed7953"
            ],
            [
             0.7777777777777778,
             "#fb9f3a"
            ],
            [
             0.8888888888888888,
             "#fdca26"
            ],
            [
             1,
             "#f0f921"
            ]
           ]
          },
          "colorway": [
           "#636efa",
           "#EF553B",
           "#00cc96",
           "#ab63fa",
           "#FFA15A",
           "#19d3f3",
           "#FF6692",
           "#B6E880",
           "#FF97FF",
           "#FECB52"
          ],
          "font": {
           "color": "#2a3f5f"
          },
          "geo": {
           "bgcolor": "white",
           "lakecolor": "white",
           "landcolor": "#E5ECF6",
           "showlakes": true,
           "showland": true,
           "subunitcolor": "white"
          },
          "hoverlabel": {
           "align": "left"
          },
          "hovermode": "closest",
          "mapbox": {
           "style": "light"
          },
          "paper_bgcolor": "white",
          "plot_bgcolor": "#E5ECF6",
          "polar": {
           "angularaxis": {
            "gridcolor": "white",
            "linecolor": "white",
            "ticks": ""
           },
           "bgcolor": "#E5ECF6",
           "radialaxis": {
            "gridcolor": "white",
            "linecolor": "white",
            "ticks": ""
           }
          },
          "scene": {
           "xaxis": {
            "backgroundcolor": "#E5ECF6",
            "gridcolor": "white",
            "gridwidth": 2,
            "linecolor": "white",
            "showbackground": true,
            "ticks": "",
            "zerolinecolor": "white"
           },
           "yaxis": {
            "backgroundcolor": "#E5ECF6",
            "gridcolor": "white",
            "gridwidth": 2,
            "linecolor": "white",
            "showbackground": true,
            "ticks": "",
            "zerolinecolor": "white"
           },
           "zaxis": {
            "backgroundcolor": "#E5ECF6",
            "gridcolor": "white",
            "gridwidth": 2,
            "linecolor": "white",
            "showbackground": true,
            "ticks": "",
            "zerolinecolor": "white"
           }
          },
          "shapedefaults": {
           "line": {
            "color": "#2a3f5f"
           }
          },
          "ternary": {
           "aaxis": {
            "gridcolor": "white",
            "linecolor": "white",
            "ticks": ""
           },
           "baxis": {
            "gridcolor": "white",
            "linecolor": "white",
            "ticks": ""
           },
           "bgcolor": "#E5ECF6",
           "caxis": {
            "gridcolor": "white",
            "linecolor": "white",
            "ticks": ""
           }
          },
          "title": {
           "x": 0.05
          },
          "xaxis": {
           "automargin": true,
           "gridcolor": "white",
           "linecolor": "white",
           "ticks": "",
           "title": {
            "standoff": 15
           },
           "zerolinecolor": "white",
           "zerolinewidth": 2
          },
          "yaxis": {
           "automargin": true,
           "gridcolor": "white",
           "linecolor": "white",
           "ticks": "",
           "title": {
            "standoff": 15
           },
           "zerolinecolor": "white",
           "zerolinewidth": 2
          }
         }
        },
        "title": {
         "text": "User Acceptance & Price Adjustments"
        },
        "width": 900,
        "xaxis": {
         "anchor": "y",
         "domain": [
          0,
          0.45
         ]
        },
        "xaxis2": {
         "anchor": "y2",
         "domain": [
          0.55,
          1
         ]
        },
        "xaxis3": {
         "anchor": "y3",
         "domain": [
          0,
          0.45
         ]
        },
        "xaxis4": {
         "anchor": "y4",
         "domain": [
          0.55,
          1
         ]
        },
        "yaxis": {
         "anchor": "x",
         "domain": [
          0.625,
          1
         ]
        },
        "yaxis2": {
         "anchor": "x2",
         "domain": [
          0.625,
          1
         ]
        },
        "yaxis3": {
         "anchor": "x3",
         "domain": [
          0,
          0.375
         ]
        },
        "yaxis4": {
         "anchor": "x4",
         "domain": [
          0,
          0.375
         ]
        }
       }
      }
     },
     "metadata": {},
     "output_type": "display_data"
    }
   ],
   "source": [
    "import plotly.express as px\n",
    "import plotly.graph_objects as go\n",
    "from plotly.subplots import make_subplots\n",
    "total_users = result_df.shape[0]\n",
    "\n",
    "\n",
    "price_increase_users = true_accepted[\n",
    "    true_accepted[\"Highest Price Suggested\"] > true_accepted[\"Original Cost Offered\"]\n",
    "]\n",
    "\n",
    "\n",
    "primary_count = price_increase_users[price_increase_users[\"Primary Threshold Met\"] == 1].shape[0]\n",
    "secondary_count = price_increase_users[\n",
    "    (price_increase_users[\"Primary Threshold Met\"] == 0) & \n",
    "    (price_increase_users[\"Secondary Threshold Met\"] == 1)\n",
    "].shape[0]\n",
    "\n",
    "# Percentage of total users\n",
    "primary_percentage = (primary_count / total_users) * 100\n",
    "secondary_percentage = (secondary_count / total_users) * 100\n",
    "\n",
    "# Average price increase\n",
    "primary_avg_increase = price_increase_users[\n",
    "    price_increase_users[\"Primary Threshold Met\"] == 1\n",
    "][\"Highest Price Suggested\"].sub(price_increase_users[\"Original Cost Offered\"]).mean()\n",
    "\n",
    "secondary_avg_increase = price_increase_users[\n",
    "    (price_increase_users[\"Primary Threshold Met\"] == 0) & \n",
    "    (price_increase_users[\"Secondary Threshold Met\"] == 1)\n",
    "][\"Highest Price Suggested\"].sub(price_increase_users[\"Original Cost Offered\"]).mean()\n",
    "\n",
    "# Percentage increase relative to original price\n",
    "primary_avg_percentage_increase = (primary_avg_increase / \n",
    "                                   price_increase_users[price_increase_users[\"Primary Threshold Met\"] == 1][\"Original Cost Offered\"].mean()) * 100\n",
    "\n",
    "secondary_avg_percentage_increase = (secondary_avg_increase / \n",
    "                                     price_increase_users[(price_increase_users[\"Primary Threshold Met\"] == 0) & \n",
    "                                                          (price_increase_users[\"Secondary Threshold Met\"] == 1)][\"Original Cost Offered\"].mean()) * 100\n",
    "\n",
    "\n",
    "categories = [\"Primary (>=70%)\", \"Secondary (>=50%)\"]\n",
    "\n",
    "\n",
    "fig = make_subplots(rows=2, cols=2, subplot_titles=[\n",
    "    \"Absolute Counts of Users\", \n",
    "    \"Percentage of Total Users\", \n",
    "    \"Average Price Increase\", \n",
    "    \"Percentage of Avg Price Increase\"\n",
    "])\n",
    "\n",
    "# Subplot 1: Absolute Counts\n",
    "fig.add_trace(go.Bar(x=categories, y=[primary_count, secondary_count], \n",
    "                     marker_color=\"blue\", name=\"Number of customers to present with higher pricing\"), row=1, col=1)\n",
    "\n",
    "# Subplot 2: Percentage of Total Users\n",
    "fig.add_trace(go.Bar(x=categories, y=[primary_percentage, secondary_percentage], \n",
    "                     marker_color=\"orange\", name=\"Percentage of total customers\"), row=1, col=2)\n",
    "\n",
    "# Subplot 3: Average Price Increase\n",
    "fig.add_trace(go.Bar(x=categories, y=[primary_avg_increase, secondary_avg_increase], \n",
    "                     marker_color=\"green\", name=\"Avg price increase from the original\"), row=2, col=1)\n",
    "\n",
    "# Subplot 4: Percentage Increase Relative to Original Price\n",
    "fig.add_trace(go.Bar(x=categories, y=[primary_avg_percentage_increase, secondary_avg_percentage_increase], \n",
    "                     marker_color=\"red\", name=\"Percentage of Avg price increase\"), row=2, col=2)\n",
    "\n",
    "# Update layout\n",
    "fig.update_layout(title_text=\"User Acceptance & Price Adjustments\", \n",
    "                  height=800, width=900, showlegend=True)\n",
    "\n",
    "# Show figure\n",
    "fig.show()\n"
   ]
  },
  {
   "cell_type": "markdown",
   "id": "9acd449a-7002-4088-b9ae-071d2a0ac98b",
   "metadata": {},
   "source": [
    "## KEY FINDINGS -->\n",
    "### The visualizations demonstrate that users for whom the model suggests higher price with 70% or more probabilistic acceptance should be the priority instead of 50% or secondary threshold group as the numbers of secondary group are minimal. Over 1557 customers are expected to pay a higher price than what is originally offered, indicating revenue optimization opportunity.\n",
    "\n",
    "### Even though the total count of users whose acceptance probability is between 50% and 70% is minimal, the price increase suggested by the model is significantly higher than the primary threshold category. Hence, the price increase for primary group can be improved further but below than what is recommended for the secondary group.\n",
    "\n",
    "### Till now, we have only talked about the two categories but we need to address the 35.57% of the false negatives i.e. users who have originally accepted the offer but model is less than 50% confident for acceptance. In this case, an optimal recommendation could be to not change the original prices offered since there exist no records where the model recommends a higer price for the false negatives.\n"
   ]
  },
  {
   "cell_type": "code",
   "execution_count": 23,
   "id": "570d9450-51d6-4d3d-9adc-aa93252ad4bd",
   "metadata": {},
   "outputs": [
    {
     "data": {
      "text/html": [
       "<div>\n",
       "<style scoped>\n",
       "    .dataframe tbody tr th:only-of-type {\n",
       "        vertical-align: middle;\n",
       "    }\n",
       "\n",
       "    .dataframe tbody tr th {\n",
       "        vertical-align: top;\n",
       "    }\n",
       "\n",
       "    .dataframe thead th {\n",
       "        text-align: right;\n",
       "    }\n",
       "</style>\n",
       "<table border=\"1\" class=\"dataframe\">\n",
       "  <thead>\n",
       "    <tr style=\"text-align: right;\">\n",
       "      <th></th>\n",
       "      <th>Highest Price Suggested</th>\n",
       "      <th>Original Cost Offered</th>\n",
       "      <th>Predicted Acceptance Probability</th>\n",
       "      <th>Threshold Used</th>\n",
       "      <th>Primary Threshold Met</th>\n",
       "      <th>Secondary Threshold Met</th>\n",
       "      <th>Accepted Offer (True)</th>\n",
       "      <th>Price Difference</th>\n",
       "      <th>Price % Change</th>\n",
       "    </tr>\n",
       "  </thead>\n",
       "  <tbody>\n",
       "  </tbody>\n",
       "</table>\n",
       "</div>"
      ],
      "text/plain": [
       "Empty DataFrame\n",
       "Columns: [Highest Price Suggested, Original Cost Offered, Predicted Acceptance Probability, Threshold Used, Primary Threshold Met, Secondary Threshold Met, Accepted Offer (True), Price Difference, Price % Change]\n",
       "Index: []"
      ]
     },
     "execution_count": 23,
     "metadata": {},
     "output_type": "execute_result"
    }
   ],
   "source": [
    "true_accepted[\n",
    "    (true_accepted[\"Highest Price Suggested\"]>true_accepted[\"Original Cost Offered\"]) & \n",
    "    (true_accepted[\"Threshold Used\"] == \"below threshold (50%)\")\n",
    "]\n",
    "#Here we can clearly see that no records with recommend price higher than original exist for below threshold consumers."
   ]
  },
  {
   "cell_type": "markdown",
   "id": "54432c58-4a2c-4ed8-b101-5edf00f5c3dc",
   "metadata": {},
   "source": [
    "### Additionally, for the secondary threshold group, where there exist too less users for which the price recommended is higher than the original, a similar strategy as for false negatives can be adopted since there exist a significant amount of users for whom the recommend price generated by the model does not overtake the original cost offered."
   ]
  },
  {
   "cell_type": "code",
   "execution_count": 24,
   "id": "118fbb5b-a54a-413c-9bee-8d546990c10d",
   "metadata": {},
   "outputs": [
    {
     "name": "stdout",
     "output_type": "stream",
     "text": [
      "Number of customers who pay higher than the model recommended price at a threshold between 50% and 70%: 2535\n"
     ]
    },
    {
     "data": {
      "text/html": [
       "<div>\n",
       "<style scoped>\n",
       "    .dataframe tbody tr th:only-of-type {\n",
       "        vertical-align: middle;\n",
       "    }\n",
       "\n",
       "    .dataframe tbody tr th {\n",
       "        vertical-align: top;\n",
       "    }\n",
       "\n",
       "    .dataframe thead th {\n",
       "        text-align: right;\n",
       "    }\n",
       "</style>\n",
       "<table border=\"1\" class=\"dataframe\">\n",
       "  <thead>\n",
       "    <tr style=\"text-align: right;\">\n",
       "      <th></th>\n",
       "      <th>Highest Price Suggested</th>\n",
       "      <th>Original Cost Offered</th>\n",
       "      <th>Predicted Acceptance Probability</th>\n",
       "      <th>Threshold Used</th>\n",
       "      <th>Primary Threshold Met</th>\n",
       "      <th>Secondary Threshold Met</th>\n",
       "      <th>Accepted Offer (True)</th>\n",
       "      <th>Price Difference</th>\n",
       "      <th>Price % Change</th>\n",
       "    </tr>\n",
       "  </thead>\n",
       "  <tbody>\n",
       "    <tr>\n",
       "      <th>0</th>\n",
       "      <td>533.633634</td>\n",
       "      <td>600</td>\n",
       "      <td>0.630970</td>\n",
       "      <td>secondary (50%)</td>\n",
       "      <td>0</td>\n",
       "      <td>1</td>\n",
       "      <td>1</td>\n",
       "      <td>-66.366366</td>\n",
       "      <td>-11.06</td>\n",
       "    </tr>\n",
       "    <tr>\n",
       "      <th>7</th>\n",
       "      <td>532.432432</td>\n",
       "      <td>600</td>\n",
       "      <td>0.629565</td>\n",
       "      <td>secondary (50%)</td>\n",
       "      <td>0</td>\n",
       "      <td>1</td>\n",
       "      <td>1</td>\n",
       "      <td>-67.567568</td>\n",
       "      <td>-11.26</td>\n",
       "    </tr>\n",
       "    <tr>\n",
       "      <th>12</th>\n",
       "      <td>528.428428</td>\n",
       "      <td>600</td>\n",
       "      <td>0.625056</td>\n",
       "      <td>secondary (50%)</td>\n",
       "      <td>0</td>\n",
       "      <td>1</td>\n",
       "      <td>1</td>\n",
       "      <td>-71.571572</td>\n",
       "      <td>-11.93</td>\n",
       "    </tr>\n",
       "    <tr>\n",
       "      <th>15</th>\n",
       "      <td>540.840841</td>\n",
       "      <td>600</td>\n",
       "      <td>0.639393</td>\n",
       "      <td>secondary (50%)</td>\n",
       "      <td>0</td>\n",
       "      <td>1</td>\n",
       "      <td>1</td>\n",
       "      <td>-59.159159</td>\n",
       "      <td>-9.86</td>\n",
       "    </tr>\n",
       "    <tr>\n",
       "      <th>18</th>\n",
       "      <td>543.243243</td>\n",
       "      <td>700</td>\n",
       "      <td>0.529448</td>\n",
       "      <td>secondary (50%)</td>\n",
       "      <td>0</td>\n",
       "      <td>1</td>\n",
       "      <td>1</td>\n",
       "      <td>-156.756757</td>\n",
       "      <td>-22.39</td>\n",
       "    </tr>\n",
       "    <tr>\n",
       "      <th>...</th>\n",
       "      <td>...</td>\n",
       "      <td>...</td>\n",
       "      <td>...</td>\n",
       "      <td>...</td>\n",
       "      <td>...</td>\n",
       "      <td>...</td>\n",
       "      <td>...</td>\n",
       "      <td>...</td>\n",
       "      <td>...</td>\n",
       "    </tr>\n",
       "    <tr>\n",
       "      <th>9964</th>\n",
       "      <td>542.442442</td>\n",
       "      <td>600</td>\n",
       "      <td>0.640287</td>\n",
       "      <td>secondary (50%)</td>\n",
       "      <td>0</td>\n",
       "      <td>1</td>\n",
       "      <td>1</td>\n",
       "      <td>-57.557558</td>\n",
       "      <td>-9.59</td>\n",
       "    </tr>\n",
       "    <tr>\n",
       "      <th>9972</th>\n",
       "      <td>526.026026</td>\n",
       "      <td>600</td>\n",
       "      <td>0.622605</td>\n",
       "      <td>secondary (50%)</td>\n",
       "      <td>0</td>\n",
       "      <td>1</td>\n",
       "      <td>1</td>\n",
       "      <td>-73.973974</td>\n",
       "      <td>-12.33</td>\n",
       "    </tr>\n",
       "    <tr>\n",
       "      <th>9975</th>\n",
       "      <td>542.442442</td>\n",
       "      <td>600</td>\n",
       "      <td>0.640588</td>\n",
       "      <td>secondary (50%)</td>\n",
       "      <td>0</td>\n",
       "      <td>1</td>\n",
       "      <td>1</td>\n",
       "      <td>-57.557558</td>\n",
       "      <td>-9.59</td>\n",
       "    </tr>\n",
       "    <tr>\n",
       "      <th>9976</th>\n",
       "      <td>526.026026</td>\n",
       "      <td>600</td>\n",
       "      <td>0.622312</td>\n",
       "      <td>secondary (50%)</td>\n",
       "      <td>0</td>\n",
       "      <td>1</td>\n",
       "      <td>1</td>\n",
       "      <td>-73.973974</td>\n",
       "      <td>-12.33</td>\n",
       "    </tr>\n",
       "    <tr>\n",
       "      <th>9995</th>\n",
       "      <td>521.621622</td>\n",
       "      <td>600</td>\n",
       "      <td>0.617614</td>\n",
       "      <td>secondary (50%)</td>\n",
       "      <td>0</td>\n",
       "      <td>1</td>\n",
       "      <td>1</td>\n",
       "      <td>-78.378378</td>\n",
       "      <td>-13.06</td>\n",
       "    </tr>\n",
       "  </tbody>\n",
       "</table>\n",
       "<p>2535 rows × 9 columns</p>\n",
       "</div>"
      ],
      "text/plain": [
       "      Highest Price Suggested  Original Cost Offered  \\\n",
       "0                  533.633634                    600   \n",
       "7                  532.432432                    600   \n",
       "12                 528.428428                    600   \n",
       "15                 540.840841                    600   \n",
       "18                 543.243243                    700   \n",
       "...                       ...                    ...   \n",
       "9964               542.442442                    600   \n",
       "9972               526.026026                    600   \n",
       "9975               542.442442                    600   \n",
       "9976               526.026026                    600   \n",
       "9995               521.621622                    600   \n",
       "\n",
       "      Predicted Acceptance Probability   Threshold Used  \\\n",
       "0                             0.630970  secondary (50%)   \n",
       "7                             0.629565  secondary (50%)   \n",
       "12                            0.625056  secondary (50%)   \n",
       "15                            0.639393  secondary (50%)   \n",
       "18                            0.529448  secondary (50%)   \n",
       "...                                ...              ...   \n",
       "9964                          0.640287  secondary (50%)   \n",
       "9972                          0.622605  secondary (50%)   \n",
       "9975                          0.640588  secondary (50%)   \n",
       "9976                          0.622312  secondary (50%)   \n",
       "9995                          0.617614  secondary (50%)   \n",
       "\n",
       "      Primary Threshold Met  Secondary Threshold Met  Accepted Offer (True)  \\\n",
       "0                         0                        1                      1   \n",
       "7                         0                        1                      1   \n",
       "12                        0                        1                      1   \n",
       "15                        0                        1                      1   \n",
       "18                        0                        1                      1   \n",
       "...                     ...                      ...                    ...   \n",
       "9964                      0                        1                      1   \n",
       "9972                      0                        1                      1   \n",
       "9975                      0                        1                      1   \n",
       "9976                      0                        1                      1   \n",
       "9995                      0                        1                      1   \n",
       "\n",
       "      Price Difference  Price % Change  \n",
       "0           -66.366366          -11.06  \n",
       "7           -67.567568          -11.26  \n",
       "12          -71.571572          -11.93  \n",
       "15          -59.159159           -9.86  \n",
       "18         -156.756757          -22.39  \n",
       "...                ...             ...  \n",
       "9964        -57.557558           -9.59  \n",
       "9972        -73.973974          -12.33  \n",
       "9975        -57.557558           -9.59  \n",
       "9976        -73.973974          -12.33  \n",
       "9995        -78.378378          -13.06  \n",
       "\n",
       "[2535 rows x 9 columns]"
      ]
     },
     "execution_count": 24,
     "metadata": {},
     "output_type": "execute_result"
    }
   ],
   "source": [
    "secondary_with_high_original = true_accepted[\n",
    "    (true_accepted[\"Highest Price Suggested\"]<=true_accepted[\"Original Cost Offered\"]) & \n",
    "    (true_accepted[\"Threshold Used\"] == \"secondary (50%)\")\n",
    "].shape[0]\n",
    "\n",
    "print(\"Number of customers who pay higher than the model recommended price at a threshold between 50% and 70%:\", secondary_with_high_original)\n",
    "\n",
    "true_accepted[\n",
    "    (true_accepted[\"Highest Price Suggested\"]<=true_accepted[\"Original Cost Offered\"]) & \n",
    "    (true_accepted[\"Threshold Used\"] == \"secondary (50%)\")\n",
    "]\n",
    "\n",
    "#As evident, out of the 2576 secondary threshold users (visualized in pie chart and show above it), 2535 users...\n",
    "#...have original cost offered higher or equal to the price recommended by the model\n",
    "#Hence, no change in costs seem a better option until model improves.\n"
   ]
  }
 ],
 "metadata": {
  "kernelspec": {
   "display_name": "app_analysis_env",
   "language": "python",
   "name": "python3"
  },
  "language_info": {
   "codemirror_mode": {
    "name": "ipython",
    "version": 3
   },
   "file_extension": ".py",
   "mimetype": "text/x-python",
   "name": "python",
   "nbconvert_exporter": "python",
   "pygments_lexer": "ipython3",
   "version": "3.13.0"
  }
 },
 "nbformat": 4,
 "nbformat_minor": 5
}
